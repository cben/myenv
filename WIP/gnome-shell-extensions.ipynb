{
 "cells": [
  {
   "cell_type": "code",
   "execution_count": 3,
   "metadata": {},
   "outputs": [],
   "source": [
    "# gnome-shell-extension-tool -e paperwm@hedning:matrix.org"
   ]
  },
  {
   "cell_type": "code",
   "execution_count": 4,
   "metadata": {},
   "outputs": [],
   "source": [
    "# http://bernaerts.dyndns.org/linux/76-gnome/283-gnome-shell-install-extension-command-line-script\n",
    "# https://github.com/GNOME/gnome-shell/blob/master/browser-plugin/browser-plugin.c"
   ]
  },
  {
   "cell_type": "code",
   "execution_count": 5,
   "metadata": {},
   "outputs": [],
   "source": [
    "import dbus, pprint\n",
    "bus = dbus.SessionBus()\n",
    "proxy = bus.get_object(\"org.gnome.Shell\", \"/org/gnome/Shell\")\n",
    "iface = dbus.Interface(proxy, \"org.gnome.Shell.Extensions\")"
   ]
  },
  {
   "cell_type": "code",
   "execution_count": 6,
   "metadata": {},
   "outputs": [
    {
     "name": "stdout",
     "output_type": "stream",
     "text": [
      "Already installed:\n",
      "  Resource_Monitor@Ory0n\n",
      "  Vitals@CoreCoding.com\n",
      "  altalttab@wdzierzan.com\n",
      "  alternate-tab@gnome-shell-extensions.gcampax.github.com\n",
      "  apps-menu@gnome-shell-extensions.gcampax.github.com\n",
      "  background-logo@fedorahosted.org\n",
      "  laine@knasher.gmail.com\n",
      "  launch-new-instance@gnome-shell-extensions.gcampax.github.com\n",
      "  places-menu@gnome-shell-extensions.gcampax.github.com\n",
      "  user-theme@gnome-shell-extensions.gcampax.github.com\n",
      "  window-list@gnome-shell-extensions.gcampax.github.com\n"
     ]
    }
   ],
   "source": [
    "installed = {str(e) for e in iface.ListExtensions()}\n",
    "print(\"Already installed:\", *sorted(installed), sep='\\n  ')"
   ]
  },
  {
   "cell_type": "code",
   "execution_count": 7,
   "metadata": {},
   "outputs": [
    {
     "ename": "NameError",
     "evalue": "name 'ext' is not defined",
     "output_type": "error",
     "traceback": [
      "\u001b[0;31m---------------------------------------------------------------------------\u001b[0m",
      "\u001b[0;31mNameError\u001b[0m                                 Traceback (most recent call last)",
      "\u001b[0;32m<ipython-input-7-caef7e36ccf8>\u001b[0m in \u001b[0;36m<module>\u001b[0;34m\u001b[0m\n\u001b[0;32m----> 1\u001b[0;31m \u001b[0mpprint\u001b[0m\u001b[0;34m.\u001b[0m\u001b[0mpprint\u001b[0m\u001b[0;34m(\u001b[0m\u001b[0miface\u001b[0m\u001b[0;34m.\u001b[0m\u001b[0mGetExtensionInfo\u001b[0m\u001b[0;34m(\u001b[0m\u001b[0mext\u001b[0m\u001b[0;34m)\u001b[0m\u001b[0;34m)\u001b[0m\u001b[0;34m\u001b[0m\u001b[0;34m\u001b[0m\u001b[0m\n\u001b[0m",
      "\u001b[0;31mNameError\u001b[0m: name 'ext' is not defined"
     ]
    }
   ],
   "source": [
    "pprint.pprint(iface.GetExtensionInfo(ext))"
   ]
  },
  {
   "cell_type": "code",
   "execution_count": 8,
   "metadata": {
    "scrolled": true
   },
   "outputs": [
    {
     "name": "stdout",
     "output_type": "stream",
     "text": [
      "<!DOCTYPE node PUBLIC \"-//freedesktop//DTD D-BUS Object Introspection 1.0//EN\"\n",
      "                      \"http://www.freedesktop.org/standards/dbus/1.0/introspect.dtd\">\n",
      "<!-- GDBus 2.60.7 -->\n",
      "<node>\n",
      "  <interface name=\"org.freedesktop.DBus.Properties\">\n",
      "    <method name=\"Get\">\n",
      "      <arg type=\"s\" name=\"interface_name\" direction=\"in\"/>\n",
      "      <arg type=\"s\" name=\"property_name\" direction=\"in\"/>\n",
      "      <arg type=\"v\" name=\"value\" direction=\"out\"/>\n",
      "    </method>\n",
      "    <method name=\"GetAll\">\n",
      "      <arg type=\"s\" name=\"interface_name\" direction=\"in\"/>\n",
      "      <arg type=\"a{sv}\" name=\"properties\" direction=\"out\"/>\n",
      "    </method>\n",
      "    <method name=\"Set\">\n",
      "      <arg type=\"s\" name=\"interface_name\" direction=\"in\"/>\n",
      "      <arg type=\"s\" name=\"property_name\" direction=\"in\"/>\n",
      "      <arg type=\"v\" name=\"value\" direction=\"in\"/>\n",
      "    </method>\n",
      "    <signal name=\"PropertiesChanged\">\n",
      "      <arg type=\"s\" name=\"interface_name\"/>\n",
      "      <arg type=\"a{sv}\" name=\"changed_properties\"/>\n",
      "      <arg type=\"as\" name=\"invalidated_properties\"/>\n",
      "    </signal>\n",
      "  </interface>\n",
      "  <interface name=\"org.freedesktop.DBus.Introspectable\">\n",
      "    <method name=\"Introspect\">\n",
      "      <arg type=\"s\" name=\"xml_data\" direction=\"out\"/>\n",
      "    </method>\n",
      "  </interface>\n",
      "  <interface name=\"org.freedesktop.DBus.Peer\">\n",
      "    <method name=\"Ping\"/>\n",
      "    <method name=\"GetMachineId\">\n",
      "      <arg type=\"s\" name=\"machine_uuid\" direction=\"out\"/>\n",
      "    </method>\n",
      "  </interface>\n",
      "  <interface name=\"org.gnome.Shell\">\n",
      "    <method name=\"Eval\">\n",
      "      <arg type=\"s\" name=\"script\" direction=\"in\">\n",
      "      </arg>\n",
      "      <arg type=\"b\" name=\"success\" direction=\"out\">\n",
      "      </arg>\n",
      "      <arg type=\"s\" name=\"result\" direction=\"out\">\n",
      "      </arg>\n",
      "    </method>\n",
      "    <method name=\"FocusSearch\">\n",
      "    </method>\n",
      "    <method name=\"ShowOSD\">\n",
      "      <arg type=\"a{sv}\" name=\"params\" direction=\"in\">\n",
      "      </arg>\n",
      "    </method>\n",
      "    <method name=\"ShowMonitorLabels2\">\n",
      "      <arg type=\"a{sv}\" name=\"params\" direction=\"in\">\n",
      "      </arg>\n",
      "    </method>\n",
      "    <method name=\"HideMonitorLabels\">\n",
      "    </method>\n",
      "    <method name=\"FocusApp\">\n",
      "      <arg type=\"s\" name=\"id\" direction=\"in\">\n",
      "      </arg>\n",
      "    </method>\n",
      "    <method name=\"ShowApplications\">\n",
      "    </method>\n",
      "    <method name=\"GrabAccelerator\">\n",
      "      <arg type=\"s\" name=\"accelerator\" direction=\"in\">\n",
      "      </arg>\n",
      "      <arg type=\"u\" name=\"modeFlags\" direction=\"in\">\n",
      "      </arg>\n",
      "      <arg type=\"u\" name=\"grabFlags\" direction=\"in\">\n",
      "      </arg>\n",
      "      <arg type=\"u\" name=\"action\" direction=\"out\">\n",
      "      </arg>\n",
      "    </method>\n",
      "    <method name=\"GrabAccelerators\">\n",
      "      <arg type=\"a(suu)\" name=\"accelerators\" direction=\"in\">\n",
      "      </arg>\n",
      "      <arg type=\"au\" name=\"actions\" direction=\"out\">\n",
      "      </arg>\n",
      "    </method>\n",
      "    <method name=\"UngrabAccelerator\">\n",
      "      <arg type=\"u\" name=\"action\" direction=\"in\">\n",
      "      </arg>\n",
      "      <arg type=\"b\" name=\"success\" direction=\"out\">\n",
      "      </arg>\n",
      "    </method>\n",
      "    <method name=\"UngrabAccelerators\">\n",
      "      <arg type=\"au\" name=\"action\" direction=\"in\">\n",
      "      </arg>\n",
      "      <arg type=\"b\" name=\"success\" direction=\"out\">\n",
      "      </arg>\n",
      "    </method>\n",
      "    <signal name=\"AcceleratorActivated\">\n",
      "      <arg type=\"u\" name=\"action\">\n",
      "      </arg>\n",
      "      <arg type=\"a{sv}\" name=\"parameters\">\n",
      "      </arg>\n",
      "    </signal>\n",
      "    <property type=\"s\" name=\"Mode\" access=\"read\">\n",
      "    </property>\n",
      "    <property type=\"b\" name=\"OverviewActive\" access=\"readwrite\">\n",
      "    </property>\n",
      "    <property type=\"s\" name=\"ShellVersion\" access=\"read\">\n",
      "    </property>\n",
      "  </interface>\n",
      "  <interface name=\"org.gnome.Shell.Extensions\">\n",
      "    <method name=\"ListExtensions\">\n",
      "      <arg type=\"a{sa{sv}}\" name=\"extensions\" direction=\"out\">\n",
      "      </arg>\n",
      "    </method>\n",
      "    <method name=\"GetExtensionInfo\">\n",
      "      <arg type=\"s\" name=\"uuid\" direction=\"in\">\n",
      "      </arg>\n",
      "      <arg type=\"a{sv}\" name=\"info\" direction=\"out\">\n",
      "      </arg>\n",
      "    </method>\n",
      "    <method name=\"GetExtensionErrors\">\n",
      "      <arg type=\"s\" name=\"uuid\" direction=\"in\">\n",
      "      </arg>\n",
      "      <arg type=\"as\" name=\"errors\" direction=\"out\">\n",
      "      </arg>\n",
      "    </method>\n",
      "    <method name=\"InstallRemoteExtension\">\n",
      "      <arg type=\"s\" name=\"uuid\" direction=\"in\">\n",
      "      </arg>\n",
      "      <arg type=\"s\" name=\"result\" direction=\"out\">\n",
      "      </arg>\n",
      "    </method>\n",
      "    <method name=\"UninstallExtension\">\n",
      "      <arg type=\"s\" name=\"uuid\" direction=\"in\">\n",
      "      </arg>\n",
      "      <arg type=\"b\" name=\"success\" direction=\"out\">\n",
      "      </arg>\n",
      "    </method>\n",
      "    <method name=\"ReloadExtension\">\n",
      "      <arg type=\"s\" name=\"uuid\" direction=\"in\">\n",
      "      </arg>\n",
      "    </method>\n",
      "    <method name=\"LaunchExtensionPrefs\">\n",
      "      <arg type=\"s\" name=\"uuid\" direction=\"in\">\n",
      "      </arg>\n",
      "    </method>\n",
      "    <method name=\"CheckForUpdates\">\n",
      "    </method>\n",
      "    <signal name=\"ExtensionStatusChanged\">\n",
      "      <arg type=\"s\" name=\"uuid\">\n",
      "      </arg>\n",
      "      <arg type=\"i\" name=\"state\">\n",
      "      </arg>\n",
      "      <arg type=\"s\" name=\"error\">\n",
      "      </arg>\n",
      "    </signal>\n",
      "    <property type=\"s\" name=\"ShellVersion\" access=\"read\">\n",
      "    </property>\n",
      "  </interface>\n",
      "  <node name=\"Screenshot\"/>\n",
      "  <node name=\"Introspect\"/>\n",
      "  <node name=\"Wacom\"/>\n",
      "  <node name=\"Screencast\"/>\n",
      "  <node name=\"AudioDeviceSelection\"/>\n",
      "</node>\n",
      "\n"
     ]
    }
   ],
   "source": [
    "introspection_interface = dbus.Interface(proxy, dbus.INTROSPECTABLE_IFACE)\n",
    "print(introspection_interface.Introspect())"
   ]
  },
  {
   "cell_type": "code",
   "execution_count": 11,
   "metadata": {},
   "outputs": [],
   "source": [
    "iface.CheckForUpdates()"
   ]
  },
  {
   "cell_type": "code",
   "execution_count": 10,
   "metadata": {},
   "outputs": [
    {
     "name": "stdout",
     "output_type": "stream",
     "text": [
      "Already enabled:\n",
      "  Vitals@CoreCoding.com\n",
      "  alternate-tab@gnome-shell-extensions.gcampax.github.com\n",
      "  apps-menu@gnome-shell-extensions.gcampax.github.com\n",
      "  background-logo@fedorahosted.org\n",
      "  laine@knasher.gmail.com\n",
      "  launch-new-instance@gnome-shell-extensions.gcampax.github.com\n",
      "  paperwm@hedning:matrix.org\n",
      "  places-menu@gnome-shell-extensions.gcampax.github.com\n",
      "  system-monitor@paradoxxx.zero.gmail.com\n",
      "  user-theme@gnome-shell-extensions.gcampax.github.com\n",
      "  window-list@gnome-shell-extensions.gcampax.github.com\n",
      "  windows-alt-tab@tglman.org\n"
     ]
    }
   ],
   "source": [
    "from gi.repository import Gio, GLib\n",
    "gsettings = Gio.Settings.new('org.gnome.shell')\n",
    "enabled = set(gsettings.get_strv('enabled-extensions'))\n",
    "print(\"Already enabled:\", *sorted(enabled), sep='\\n  ')\n",
    "\n",
    "def enable(extensions):\n",
    "    \"\"\"Make sure all `extensions` are enabled.  Must be already installed.\"\"\"\n",
    "    print(\"Enabling:\", *sorted(extensions - set(enabled)), sep='\\n  ')\n",
    "    gsettings.set_strv('enabled-extensions', sorted(set(enabled) | extensions))"
   ]
  },
  {
   "cell_type": "code",
   "execution_count": 12,
   "metadata": {},
   "outputs": [],
   "source": [
    "desired = {\n",
    " 'alternate-tab@gnome-shell-extensions.gcampax.github.com',\n",
    " 'apps-menu@gnome-shell-extensions.gcampax.github.com',\n",
    " 'launch-new-instance@gnome-shell-extensions.gcampax.github.com',\n",
    " 'native-window-placement@gnome-shell-extensions.gcampax.github.com',\n",
    " 'places-menu@gnome-shell-extensions.gcampax.github.com',\n",
    " 'systemMonitor@gnome-shell-extensions.gcampax.github.com',\n",
    " 'window-list@gnome-shell-extensions.gcampax.github.com',\n",
    " 'windowsNavigator@gnome-shell-extensions.gcampax.github.com',\n",
    " 'workspace-indicator@gnome-shell-extensions.gcampax.github.com'\n",
    "}"
   ]
  },
  {
   "cell_type": "code",
   "execution_count": 15,
   "metadata": {},
   "outputs": [
    {
     "data": {
      "text/plain": [
       "set()"
      ]
     },
     "execution_count": 15,
     "metadata": {},
     "output_type": "execute_result"
    }
   ],
   "source": [
    "(desired & installed) - enabled"
   ]
  },
  {
   "cell_type": "code",
   "execution_count": null,
   "metadata": {},
   "outputs": [],
   "source": [
    "enable(desired & installed)"
   ]
  }
 ],
 "metadata": {
  "kernelspec": {
   "display_name": "Python 3",
   "language": "python",
   "name": "python3"
  },
  "language_info": {
   "codemirror_mode": {
    "name": "ipython",
    "version": 3
   },
   "file_extension": ".py",
   "mimetype": "text/x-python",
   "name": "python",
   "nbconvert_exporter": "python",
   "pygments_lexer": "ipython3",
   "version": "3.7.5"
  }
 },
 "nbformat": 4,
 "nbformat_minor": 1
}
